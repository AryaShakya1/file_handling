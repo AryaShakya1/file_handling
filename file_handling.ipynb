{
 "cells": [
  {
   "cell_type": "markdown",
   "metadata": {},
   "source": [
    "1.  Find and Replace in Text File\n"
   ]
  },
  {
   "cell_type": "code",
   "execution_count": 3,
   "metadata": {},
   "outputs": [],
   "source": [
    "try:\n",
    "    with open(\"sample.txt\", \"r\") as file:\n",
    "\n",
    "        lines = file.readlines()\n",
    "\n",
    "\n",
    "    lines = [line.replace(\"Hello\", \"Hi\") for line in lines]\n",
    "\n",
    "\n",
    "except FileNotFoundError:\n",
    "    print(\"The file does not exist\")\n",
    "\n",
    "\n",
    "try:\n",
    "    with open(\"sample.txt\", \"w\") as file:\n",
    "\n",
    "        file.writelines(lines)\n",
    "except FileNotFoundError:\n",
    "    print(\"The file does not exist\")"
   ]
  },
  {
   "cell_type": "markdown",
   "metadata": {},
   "source": [
    "2. Calculate Word Frequency in a Text File\n"
   ]
  },
  {
   "cell_type": "code",
   "execution_count": 5,
   "metadata": {},
   "outputs": [
    {
     "name": "stdout",
     "output_type": "stream",
     "text": [
      "banana 4\n",
      "apple 3\n",
      "orange 1\n",
      "grape 1\n"
     ]
    }
   ],
   "source": [
    "try:\n",
    "    with open(\"words.txt\", \"r\") as file:\n",
    "        lines = file.readlines()\n",
    "\n",
    "\n",
    "except FileNotFoundError:\n",
    "    print(\"The file does not exist\")\n",
    "\n",
    "\n",
    "count = {}\n",
    "\n",
    "for line in lines:\n",
    "    line = line.strip()\n",
    "    words = line.split()\n",
    "    for word in words:\n",
    "        count[word] = count.get(word, 0) + 1\n",
    "\n",
    "\n",
    "sortedCount = sorted(count, key=count.get, reverse=True)\n",
    "\n",
    "\n",
    "\n",
    "for item in sortedCount:\n",
    "\n",
    "    print(item, count[item])"
   ]
  },
  {
   "cell_type": "markdown",
   "metadata": {},
   "source": [
    "3. Merge Two Text Files Line by Line\n"
   ]
  },
  {
   "cell_type": "code",
   "execution_count": 4,
   "metadata": {},
   "outputs": [],
   "source": [
    "with open(\"file1.txt\", \"r\") as file1, open(\"file2.txt\", \"r\") as file2:\n",
    "    lines1 = file1.readlines()\n",
    "    lines2 = file2.readlines()\n",
    "\n",
    "file1_length = len(lines1)\n",
    "file2_length = len(lines2)\n",
    "min_length = min(file1_length, file2_length)\n",
    "\n",
    "merged_lines = []\n",
    "for index in range(min_length):\n",
    "    merged_line = lines1[index].strip() + \" \" + lines2[index].strip() + \"\\n\"\n",
    "    merged_lines.append(merged_line)\n",
    "\n",
    "if file1_length > file2_length:\n",
    "    for index in range(min_length, file1_length):\n",
    "        merged_lines.append(lines1[index])\n",
    "\n",
    "if file1_length < file2_length:\n",
    "    for index in range(min_length, file2_length):\n",
    "        merged_lines.append(lines2[index])\n",
    "\n",
    "try:\n",
    "    with open(\"merged.txt\", \"w\") as merged_file:\n",
    "        merged_file.writelines(merged_lines)\n",
    "except Exception as e:\n",
    "    print(e)"
   ]
  }
 ],
 "metadata": {
  "kernelspec": {
   "display_name": "base",
   "language": "python",
   "name": "python3"
  },
  "language_info": {
   "codemirror_mode": {
    "name": "ipython",
    "version": 3
   },
   "file_extension": ".py",
   "mimetype": "text/x-python",
   "name": "python",
   "nbconvert_exporter": "python",
   "pygments_lexer": "ipython3",
   "version": "3.9.12"
  }
 },
 "nbformat": 4,
 "nbformat_minor": 2
}
